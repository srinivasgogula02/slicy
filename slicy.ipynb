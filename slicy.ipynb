{
  "cells": [
    {
      "cell_type": "markdown",
      "metadata": {
        "id": "view-in-github",
        "colab_type": "text"
      },
      "source": [
        "<a href=\"https://colab.research.google.com/github/srinivasgogula02/slicy/blob/main/slicy.ipynb\" target=\"_parent\"><img src=\"https://colab.research.google.com/assets/colab-badge.svg\" alt=\"Open In Colab\"/></a>"
      ]
    },
    {
      "cell_type": "code",
      "execution_count": null,
      "metadata": {
        "id": "GJxcC6A9lN88"
      },
      "outputs": [],
      "source": [
        "!pip install requests\n",
        "!pip install beautifulsoup4"
      ]
    },
    {
      "cell_type": "code",
      "execution_count": null,
      "metadata": {
        "id": "qMVjogP7l2iR"
      },
      "outputs": [],
      "source": [
        "import requests\n",
        "from bs4 import BeautifulSoup\n",
        "\n",
        "def scrape_webpage(url):\n",
        "    try:\n",
        "\n",
        "        response = requests.get(url)\n",
        "\n",
        "        if response.status_code == 200:\n",
        "\n",
        "            soup = BeautifulSoup(response.content, 'html.parser')\n",
        "\n",
        "            title = soup.title.string.strip()\n",
        "            content = soup.get_text().strip()\n",
        "            return title, content\n",
        "        else:\n",
        "            print(\"Failed to fetch webpage. Status code:\", response.status_code)\n",
        "            return None, None\n",
        "    except Exception as e:\n",
        "        print(\"An error occurred:\", e)\n",
        "        return None, None\n",
        "\n",
        "url = input(\"Enter the URL of the webpage you want to scrape: \")\n",
        "\n",
        "# Call the function to scrape the webpage\n",
        "title, content = scrape_webpage(url)\n",
        "\n",
        "if title and content:\n",
        "    # Save the data to a text file\n",
        "    filename = \"webpage_content.txt\"\n",
        "    with open(filename, \"w\", encoding=\"utf-8\") as file:\n",
        "        file.write(\"Title:\\n\")\n",
        "        file.write(title + \"\\n\\n\")\n",
        "        file.write(\"Content:\\n\")\n",
        "        file.write(content)\n",
        "\n",
        "    print(f\"Webpage content saved to {filename}\")\n",
        "else:\n",
        "    print(\"Failed to scrape webpage.\")\n"
      ]
    },
    {
      "cell_type": "markdown",
      "source": [],
      "metadata": {
        "id": "SPFlxN077KQW"
      }
    },
    {
      "cell_type": "code",
      "execution_count": null,
      "metadata": {
        "id": "AWMOW2w5nDDq",
        "colab": {
          "base_uri": "https://localhost:8080/"
        },
        "outputId": "49d71930-7b89-428c-8c08-96b5c20049c2"
      },
      "outputs": [
        {
          "output_type": "stream",
          "name": "stderr",
          "text": [
            "Some weights of the model checkpoint at bert-large-uncased-whole-word-masking-finetuned-squad were not used when initializing BertForQuestionAnswering: ['bert.pooler.dense.bias', 'bert.pooler.dense.weight']\n",
            "- This IS expected if you are initializing BertForQuestionAnswering from the checkpoint of a model trained on another task or with another architecture (e.g. initializing a BertForSequenceClassification model from a BertForPreTraining model).\n",
            "- This IS NOT expected if you are initializing BertForQuestionAnswering from the checkpoint of a model that you expect to be exactly identical (initializing a BertForSequenceClassification model from a BertForSequenceClassification model).\n"
          ]
        },
        {
          "output_type": "stream",
          "name": "stdout",
          "text": [
            "Enter your question (or type 'exit' to quit): what is github\n",
            "Question: what is github\n",
            "Answer: wikipedia\n",
            "\n",
            "Enter your question (or type 'exit' to quit): what is wikipedia\n",
            "Question: what is wikipedia\n",
            "Answer: \n",
            "\n",
            "Enter your question (or type 'exit' to quit): afsd\n",
            "Question: afsd\n",
            "Answer: [CLS]\n",
            "\n",
            "Enter your question (or type 'exit' to quit): who are you\n",
            "Question: who are you\n",
            "Answer: [CLS]\n",
            "\n"
          ]
        }
      ],
      "source": [
        "\n",
        "\n",
        "\n",
        "\n",
        "\n",
        "\n",
        "\n",
        "\n",
        "\n",
        "\n",
        "from transformers import AutoTokenizer, AutoModelForQuestionAnswering\n",
        "import torch\n",
        "\n",
        "model_name = \"bert-large-uncased-whole-word-masking-finetuned-squad\"\n",
        "tokenizer = AutoTokenizer.from_pretrained(model_name)\n",
        "model = AutoModelForQuestionAnswering.from_pretrained(model_name)\n",
        "\n",
        "with open(\"webpage_content.txt\", \"r\", encoding=\"utf-8\") as file:\n",
        "    custom_text = file.read()\n",
        "\n",
        "def ask_question(question):\n",
        "    inputs = tokenizer(question, custom_text, return_tensors=\"pt\", max_length=512, truncation=True)\n",
        "    with torch.no_grad():\n",
        "        outputs = model(**inputs)\n",
        "    answer_start_scores = outputs.start_logits\n",
        "    answer_end_scores = outputs.end_logits\n",
        "    answer_start = torch.argmax(answer_start_scores)\n",
        "    answer_end = torch.argmax(answer_end_scores) + 1\n",
        "    answer = tokenizer.decode(inputs[\"input_ids\"][0][answer_start:answer_end])\n",
        "    return answer\n",
        "\n",
        "while True:\n",
        "    question = input(\"Enter your question (or type 'exit' to quit): \")\n",
        "    if question.lower() == 'exit':\n",
        "        break\n",
        "    answer = ask_question(question)\n",
        "    print(f\"Question: {question}\")\n",
        "    print(f\"Answer: {answer}\\n\")\n"
      ]
    }
  ],
  "metadata": {
    "accelerator": "GPU",
    "colab": {
      "gpuType": "T4",
      "provenance": [],
      "authorship_tag": "ABX9TyPLyk7YrCbB8KrSKlO2kB/w",
      "include_colab_link": true
    },
    "kernelspec": {
      "display_name": "Python 3",
      "name": "python3"
    },
    "language_info": {
      "name": "python"
    }
  },
  "nbformat": 4,
  "nbformat_minor": 0
}